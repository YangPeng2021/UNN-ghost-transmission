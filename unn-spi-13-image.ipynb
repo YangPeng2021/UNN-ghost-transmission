{
 "cells": [
  {
   "cell_type": "code",
   "execution_count": null,
   "id": "cc1bca7c",
   "metadata": {},
   "outputs": [],
   "source": [
    "import torch\n",
    "from torch import nn, optim\n",
    "import cv2\n",
    "import numpy as np\n",
    "import torch.fft\n",
    "import time\n",
    "import matplotlib.pyplot as plt\n",
    "import math\n",
    "from skimage import io\n",
    "import os\n",
    "import scipy.io as scio\n",
    "%matplotlib inline\n",
    "from PIL import Image\n",
    "from model import Net\n",
    "\n",
    "magnification_factor=1.3e5\n",
    "image_size = 64\n",
    "\n",
    "t0=time.process_time()\n",
    "print(torch.cuda.is_available())"
   ]
  },
  {
   "cell_type": "markdown",
   "id": "3a571265",
   "metadata": {},
   "source": [
    "Define the signal to be transmitted"
   ]
  },
  {
   "cell_type": "code",
   "execution_count": null,
   "id": "13d7ab73",
   "metadata": {},
   "outputs": [],
   "source": [
    "#lr=0.0001\n",
    "lr=0.01\n",
    "model = Net(n_channels=1, n_classes=1, bilinear=False)\n",
    "criterion = nn.MSELoss()\n",
    "\n",
    "if torch.cuda.is_available():\n",
    "    model.cuda()\n",
    "\n",
    "optvars = [{'params': model.parameters()}]\n",
    "optimizier = torch.optim.Adam(optvars, lr=lr)\n",
    "\n",
    "path='./images/DIV_0810.png'\n",
    "\n",
    "img = cv2.imread(path)\n",
    "img2 = cv2.resize(img, (image_size,image_size))\n",
    "gray = cv2.split(img2)[2]\n",
    "\n",
    "gray=gray/255\n",
    "row=30\n",
    "\n",
    "# obtain the original signal \n",
    "#gray=gray[row,:]\n",
    "gray=gray/np.max(gray)\n",
    "\n",
    "filename,_=os.path.splitext(os.path.basename(path))\n",
    "scio.savemat(('./image_mat/{}.mat'.format(filename)),{'data':gray})\n",
    "gray_res=gray.flatten()\n",
    "print(gray)\n",
    "\n",
    "gray_res=torch.from_numpy(gray_res)\n",
    "gray_res_cuda=gray_res.cuda()\n",
    "gray_res_cuda = gray_res_cuda.double()\n",
    "\n",
    "plt.figure(figsize=(10,10))\n",
    "plt.imshow(gray,cmap='gray')\n",
    "\n",
    "signal=[]\n",
    "for i in range(65):\n",
    "    if i>0:\n",
    "        signal.append(i)"
   ]
  },
  {
   "cell_type": "code",
   "execution_count": null,
   "id": "853f058d",
   "metadata": {},
   "outputs": [],
   "source": [
    "def ts_to_np(ts):\n",
    "    \n",
    "    return ts.detach().cpu().squeeze().numpy()\n",
    "def np_to_ts(np):\n",
    "    return torch.tensor(np).unsqueeze(0)\n"
   ]
  },
  {
   "cell_type": "code",
   "execution_count": null,
   "id": "dd2a8be1",
   "metadata": {},
   "outputs": [],
   "source": [
    "def plot_loss_save(k,iters,y_loss,loss):\n",
    "    #plt.cla()\n",
    "    iters.append(k)\n",
    "    loss_np=ts_to_np(loss)\n",
    "    y_loss.append(loss_np)                 \n",
    "      \n",
    "\n",
    "def plot_loss(iters,y_loss):\n",
    "    plt.plot(iters, y_loss, label='Loss rate', color='g')\n",
    "    plt.xlabel('Iteration')\n",
    "    plt.ylabel('MSE')\n",
    "    plt.title('loss')\n",
    "    plt.legend()   \n",
    "    plt.pause(1.0)"
   ]
  },
  {
   "cell_type": "markdown",
   "id": "9e778443",
   "metadata": {},
   "source": [
    "The fixed input of the UNN"
   ]
  },
  {
   "cell_type": "code",
   "execution_count": null,
   "id": "79fac760",
   "metadata": {},
   "outputs": [],
   "source": [
    "#Input of unn\n",
    "img_amp=torch.zeros(1,1,512,512)\n",
    "input_random = img_amp.uniform_()*0.1\n",
    "net_input =input_random.cuda() \n",
    "net_input_saved = net_input.detach().clone()\n",
    "\n",
    "net_input_np=ts_to_np(net_input)\n",
    "plt.figure()\n",
    "plt.imshow(net_input_np,cmap='gray')\n",
    "print(net_input)"
   ]
  },
  {
   "cell_type": "code",
   "execution_count": null,
   "id": "649abf47",
   "metadata": {},
   "outputs": [],
   "source": [
    "# add gaussian noise in the pattern due to the experimental consideration\n",
    "gaussian_rand=np.random.random((512,512))\n",
    "gaussian_rand=gaussian_rand-np.mean(gaussian_rand)\n",
    "plt.figure()\n",
    "plt.imshow(gaussian_rand,cmap='gray')\n",
    "print(np.sum(gaussian_rand))"
   ]
  },
  {
   "cell_type": "markdown",
   "id": "90953ba1",
   "metadata": {},
   "source": [
    "Generate a series of random amplitude-only patterns with UNN"
   ]
  },
  {
   "cell_type": "code",
   "execution_count": null,
   "id": "d69a456b",
   "metadata": {},
   "outputs": [],
   "source": [
    "#generated measurements by unn: result\n",
    "result=[]\n",
    "ii=1\n",
    "\n",
    "#pattern directory\n",
    "os.makedirs('./pattern_13_{}/'.format(filename),exist_ok=True)\n",
    "path_pattern=os.path.join('./pattern_13_{}/'.format(filename))\n",
    "\n",
    "#loop to generate a series of random amplitude-only patterns\n",
    "for i in range(image_size*image_size):\n",
    "    iters=[]\n",
    "    y_loss=[]\n",
    "    \n",
    "    model =  Net(n_channels=1, n_classes=1, bilinear=False)\n",
    "    criterion = nn.MSELoss()\n",
    "\n",
    "    if torch.cuda.is_available():\n",
    "        model.cuda()\n",
    "\n",
    "    optvars = [{'params': model.parameters()}]\n",
    "    optimizier = torch.optim.Adam(optvars, lr=lr)\n",
    "    loss_item=1\n",
    "    k=0\n",
    "    while(loss_item>1e-15):\n",
    "        output = model(net_input)\n",
    "\n",
    "        output = torch.squeeze(output)\n",
    "        \n",
    "        #physical model\n",
    "        recons = torch.fft.fftn(output)\n",
    "        final = recons\n",
    "        final = final.double()\n",
    "        #print(final)\n",
    "        final_spi = final[0][0]/magnification_factor\n",
    "        #print(final_spi)\n",
    "        \n",
    "        loss = criterion(final_spi,gray_res_cuda[i])\n",
    "        loss_item=ts_to_np(loss)\n",
    "        plot_loss_save(k,iters,y_loss,loss)\n",
    "        optimizier.zero_grad()\n",
    "\n",
    "        loss.backward()\n",
    "        optimizier.step()\n",
    "\n",
    "        print ('LOOP %02d, Iteration %05d, loss %.20f ' % (i,k, loss.item()), '\\r', end='')\n",
    "        k=k+1\n",
    "        if k>2000:\n",
    "            break\n",
    "        \n",
    "    final_np=final_spi.detach().cpu().numpy()\n",
    "    result.append(final_np)\n",
    "    \n",
    "    output=output.detach().cpu().numpy()\n",
    "         \n",
    "    output = (output+gaussian_rand)/2\n",
    "    output_1 = (1+output)/2\n",
    "    output_2 = (1-output)/2\n",
    "    \n",
    "    numm_1=str(ii).rjust(5,'0')\n",
    "    numm_2=str(ii+1).rjust(5,'0')\n",
    "    path_1=path_pattern+numm_1+'.png'\n",
    "    path_2=path_pattern+numm_2+'.png'\n",
    "    io.imsave(path_1,output_1)\n",
    "    io.imsave(path_2,output_2)\n",
    "    \n",
    "    ii=ii+2"
   ]
  },
  {
   "cell_type": "code",
   "execution_count": null,
   "id": "481cb3e5",
   "metadata": {
    "scrolled": true
   },
   "outputs": [],
   "source": [
    "print(\"time:\",time.process_time()-t0)\n",
    "\n",
    "result=np.array(result)\n",
    "\n",
    "print(result)"
   ]
  },
  {
   "cell_type": "code",
   "execution_count": null,
   "id": "ac874aa9",
   "metadata": {},
   "outputs": [],
   "source": [
    "result_norm=result/np.max(result)\n",
    "result_norm=result_norm.reshape((image_size,image_size))"
   ]
  },
  {
   "cell_type": "markdown",
   "id": "2a456914",
   "metadata": {},
   "source": [
    "Calculate the PSNR and SSIM"
   ]
  },
  {
   "cell_type": "code",
   "execution_count": null,
   "id": "07742421",
   "metadata": {},
   "outputs": [],
   "source": [
    "import numpy as np\n",
    "\n",
    "mse_value = np.mean((result_norm-gray)**2)\n",
    "print(\"mse_value:\",mse_value)\n",
    "#mse_value=total_loss.item()\n",
    "if mse_value<1.0e-10:\n",
    "    PSNR= 100\n",
    "PIXEL_MAX=np.max(result_norm)\n",
    "PSNR=20*math.log10(1/math.sqrt(mse_value))\n",
    "print(\"PSNR:\",PSNR)"
   ]
  },
  {
   "cell_type": "markdown",
   "id": "800366c5",
   "metadata": {},
   "source": [
    "Test the quality of the signal encoded into the generated random pattern"
   ]
  },
  {
   "cell_type": "code",
   "execution_count": null,
   "id": "461fb8fc",
   "metadata": {},
   "outputs": [],
   "source": [
    "all_pixel_list=[]\n",
    "k=1\n",
    "\n",
    "rand_1=np.random.random((512,512))\n",
    "\n",
    "rand_2=np.random.random((512,512))\n",
    "for i in range(image_size*image_size):\n",
    "    patternpath1 = path_pattern+str(k).rjust(5,'0')+'.png'\n",
    "    patternpath2 = path_pattern+str(k+1).rjust(5,'0')+'.png'\n",
    "    img_1=Image.open(patternpath1)\n",
    "    img_1=np.array(img_1)\n",
    "    img_2=Image.open(patternpath2)\n",
    "    img_2=np.array(img_2)\n",
    "    all_pixel=abs(np.sum(img_1)-np.sum(img_2))/magnification_factor\n",
    "    \n",
    "    all_pixel_list.append(all_pixel/255)\n",
    "    \n",
    "    k=k+2\n"
   ]
  },
  {
   "cell_type": "code",
   "execution_count": null,
   "id": "bd090e23",
   "metadata": {},
   "outputs": [],
   "source": [
    "res=np.array(all_pixel_list)\n",
    "res=res/np.max(res)\n",
    "res=res.reshape((image_size,image_size))\n",
    "print(res)\n",
    "mse_value = np.mean((res-gray)**2)\n",
    "print(\"mse_value:\",mse_value)\n",
    "#mse_value=total_loss.item()\n",
    "if mse_value<1.0e-10:\n",
    "    PSNR= 100\n",
    "PIXEL_MAX=np.max(res)\n",
    "PSNR=20*math.log10(1/math.sqrt(mse_value))\n",
    "print(\"PSNR:\",PSNR)"
   ]
  }
 ],
 "metadata": {
  "kernelspec": {
   "display_name": "Python 3 (ipykernel)",
   "language": "python",
   "name": "python3"
  },
  "language_info": {
   "codemirror_mode": {
    "name": "ipython",
    "version": 3
   },
   "file_extension": ".py",
   "mimetype": "text/x-python",
   "name": "python",
   "nbconvert_exporter": "python",
   "pygments_lexer": "ipython3",
   "version": "3.8.13"
  }
 },
 "nbformat": 4,
 "nbformat_minor": 5
}
